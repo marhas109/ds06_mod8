{
 "cells": [
  {
   "cell_type": "markdown",
   "metadata": {
    "id": "LrhZHUXQ3noR"
   },
   "source": [
    "## Summative Lab: Forest Fires Prevention"
   ]
  },
  {
   "cell_type": "markdown",
   "metadata": {
    "id": "j-i-NvLk3u5x"
   },
   "source": [
    "### Step 1: Load the Dataset"
   ]
  },
  {
   "cell_type": "markdown",
   "metadata": {
    "id": "LnkmkjSJ4bey"
   },
   "source": [
    "*   Install and import the ucimlrepo library.\n",
    "*   Load the Forest Fires dataset:\n",
    " *   Predictors: Features from forest_fires.data.features.\n",
    " *   Target: forest_fires.data.targets."
   ]
  },
  {
   "cell_type": "code",
   "execution_count": null,
   "metadata": {
    "id": "1ME8TJ2x3e53"
   },
   "outputs": [],
   "source": [
    "# Run pip install if necessary to access the UCI ML Repository (uncomment the next line)\n",
    "# ! pip install ucimlrepo"
   ]
  },
  {
   "cell_type": "code",
   "execution_count": 7,
   "metadata": {
    "id": "WLUIQbjc3jim"
   },
   "outputs": [
    {
     "name": "stdout",
     "output_type": "stream",
     "text": [
      "<class 'pandas.core.frame.DataFrame'>\n",
      "RangeIndex: 517 entries, 0 to 516\n",
      "Data columns (total 12 columns):\n",
      " #   Column  Non-Null Count  Dtype  \n",
      "---  ------  --------------  -----  \n",
      " 0   X       517 non-null    int64  \n",
      " 1   Y       517 non-null    int64  \n",
      " 2   month   517 non-null    object \n",
      " 3   day     517 non-null    object \n",
      " 4   FFMC    517 non-null    float64\n",
      " 5   DMC     517 non-null    float64\n",
      " 6   DC      517 non-null    float64\n",
      " 7   ISI     517 non-null    float64\n",
      " 8   temp    517 non-null    float64\n",
      " 9   RH      517 non-null    int64  \n",
      " 10  wind    517 non-null    float64\n",
      " 11  rain    517 non-null    float64\n",
      "dtypes: float64(7), int64(3), object(2)\n",
      "memory usage: 48.6+ KB\n",
      "None\n",
      "                X           Y        FFMC         DMC          DC         ISI  \\\n",
      "count  517.000000  517.000000  517.000000  517.000000  517.000000  517.000000   \n",
      "mean     4.669246    4.299807   90.644681  110.872340  547.940039    9.021663   \n",
      "std      2.313778    1.229900    5.520111   64.046482  248.066192    4.559477   \n",
      "min      1.000000    2.000000   18.700000    1.100000    7.900000    0.000000   \n",
      "25%      3.000000    4.000000   90.200000   68.600000  437.700000    6.500000   \n",
      "50%      4.000000    4.000000   91.600000  108.300000  664.200000    8.400000   \n",
      "75%      7.000000    5.000000   92.900000  142.400000  713.900000   10.800000   \n",
      "max      9.000000    9.000000   96.200000  291.300000  860.600000   56.100000   \n",
      "\n",
      "             temp          RH        wind        rain  \n",
      "count  517.000000  517.000000  517.000000  517.000000  \n",
      "mean    18.889168   44.288201    4.017602    0.021663  \n",
      "std      5.806625   16.317469    1.791653    0.295959  \n",
      "min      2.200000   15.000000    0.400000    0.000000  \n",
      "25%     15.500000   33.000000    2.700000    0.000000  \n",
      "50%     19.300000   42.000000    4.000000    0.000000  \n",
      "75%     22.800000   53.000000    4.900000    0.000000  \n",
      "max     33.300000  100.000000    9.400000    6.400000  \n",
      "     X  Y month  day  FFMC    DMC     DC   ISI  temp  RH  wind  rain\n",
      "512  4  3   aug  sun  81.6   56.7  665.6   1.9  27.8  32   2.7   0.0\n",
      "513  2  4   aug  sun  81.6   56.7  665.6   1.9  21.9  71   5.8   0.0\n",
      "514  7  4   aug  sun  81.6   56.7  665.6   1.9  21.2  70   6.7   0.0\n",
      "515  1  4   aug  sat  94.4  146.0  614.7  11.3  25.6  42   4.0   0.0\n",
      "516  6  3   nov  tue  79.5    3.0  106.7   1.1  11.8  31   4.5   0.0\n",
      "      area\n",
      "512   6.44\n",
      "513  54.29\n",
      "514  11.16\n",
      "515   0.00\n",
      "516   0.00\n"
     ]
    }
   ],
   "source": [
    "# Data\n",
    "from ucimlrepo import fetch_ucirepo\n",
    "import pandas as pd\n",
    "import numpy as np\n",
    "import matplotlib.pyplot as plt\n",
    "import seaborn as sns\n",
    "import statsmodels.api as sm\n",
    "from sklearn.linear_model import LinearRegression\n",
    "from sklearn.metrics import r2_score\n",
    "\n",
    "forest_fires = fetch_ucirepo(id=162)\n",
    "X = forest_fires.data.features\n",
    "y = forest_fires.data.targets\n",
    "\n",
    "\n",
    "# Display dataset structure\n",
    "print(X.info())\n",
    "print(X.describe())\n",
    "print(X.tail())\n",
    "print(y.tail())"
   ]
  },
  {
   "cell_type": "markdown",
   "metadata": {},
   "source": [
    "#### Explanation of Variables ###\n",
    "\n",
    "Dataset Information from the UCI website and definitions from Wikipedia.\n",
    "\n",
    "- FFMC: Fine Fuel Moisture Code. Measures the moisture level in the smaller, surface materials that are often the first fuels to burn in a fire.\n",
    "- DMC: Duff Moisture Code. Measures moisture levels in the organic soil just below the surface, as well as moisture in medium-sized woody material, such as small logs.\n",
    "- DC: Drought Code.\n",
    "- ISI: Initial Spread Index.\n",
    "- temp: temperature in Celsius\n",
    "- RH: relative humidity in %\n",
    "- wind: wind speed in km/h\n",
    "- rain: outside rain in mm/m<sup>2</sup>\n",
    "- area: burned area of the forest in hectares (very skewed towards 0.0 it may make sense to model with a logarithmic transform). "
   ]
  },
  {
   "cell_type": "markdown",
   "metadata": {
    "id": "9nM0Pzm73xnG"
   },
   "source": [
    "### Step 2: EDA"
   ]
  },
  {
   "cell_type": "markdown",
   "metadata": {
    "id": "YASwSeNl4sbW"
   },
   "source": [
    "* Examine the dataset structure and summary statistics.\n",
    "* Analyze correlations between predictors and the target variable.\n",
    "* Plot scatterplots for key predictors vs. the target.\n",
    "* Generate a residual plot to check for randomness in residuals."
   ]
  },
  {
   "cell_type": "code",
   "execution_count": null,
   "metadata": {},
   "outputs": [
    {
     "name": "stdout",
     "output_type": "stream",
     "text": [
      "Intercepts: [-16.1538261]\n",
      "Coefficients: [[ 1.90018693  0.32407576 -0.11271241  0.09664007 -0.03148937 -0.73053094\n",
      "   0.95456009 -0.1757589   1.23212806 -3.19577372  1.45017849  0.66347348\n",
      "   1.45017849  0.66347348]]\n"
     ]
    }
   ],
   "source": [
    "# converting strings to numerical values in X\n",
    "month_map = {'jan': '1', 'feb': '2', 'mar': '3', 'apr':'4', 'may':'5', 'jun': '6', 'jul': '7', 'aug': '8', 'sep': '9', 'oct': '10', 'nov': '11', 'dec': '12'}\n",
    "day_map = {'sun': '1', 'mon': '2', 'tue': '3', 'wed': '4', 'thu': '5', 'fri': '6', 'sat': '7'}\n",
    "num_months = X['month'].map(month_map)\n",
    "num_days = X['day'].map(day_map)\n",
    "num_data = pd.concat([num_months, num_days], axis=1, ignore_index=False)\n",
    "X_transition = X.drop(['month', 'day'], axis=1)\n",
    "X_num = pd.concat([X_transition, num_data], axis=1, ignore_index=False)\n",
    "X_num.head\n",
    "\n",
    "# initializing and fittin a multivariate regression model\n",
    "multi_reg = LinearRegression().fit(X_num, y)\n",
    "\n",
    "# showing coefficients intercepts and adjusted R2\n",
    "print(\"Intercepts:\", multi_reg.intercept_)\n",
    "print(\"Coefficients:\", multi_reg.coef_)\n"
   ]
  },
  {
   "cell_type": "code",
   "execution_count": 28,
   "metadata": {},
   "outputs": [
    {
     "name": "stdout",
     "output_type": "stream",
     "text": [
      "0.025350671349257503\n"
     ]
    }
   ],
   "source": [
    "Y_pred = multi_reg.predict(X_num)\n",
    "\n",
    "# r-squared for each element of X\n",
    "r2 = r2_score(y, Y_pred)\n",
    "print(r2)"
   ]
  },
  {
   "cell_type": "markdown",
   "metadata": {},
   "source": [
    "log_area = np.log(y)\n",
    "\n",
    "X_ffmc = sm.add_constant(X['FFMC'])\n",
    "model_ffmc = sm.OLS(y, X_ffmc).fit()\n",
    "\n",
    "X_dmc = sm.add_constant(X['DMC'])\n",
    "model_dmc = sm.OLS(y, X_dmc).fit()\n",
    "\n",
    "X_dc = sm.add_constant(X['DC'])\n",
    "model_dc = sm.OLS(y, X_dc).fit()\n",
    "\n",
    "X_isi = sm.add_constant(X['ISI'])\n",
    "model_isi = sm.OLS(y, X_isi).fit()\n",
    "\n",
    "X_temp = sm.add_constant(X['temp'])\n",
    "model_temp = sm.OLS(y, X_temp).fit()\n",
    "\n",
    "X_rh = sm.add_constant(X['RH'])\n",
    "model_rh = sm.OLS(y, X_rh).fit()\n",
    "\n",
    "X_wind = sm.add_constant(X['wind'])\n",
    "model_wind = sm.OLS(y, X_wind).fit()\n",
    "\n",
    "X_rain = sm.add_constant(X['rain'])\n",
    "model_rain = sm.OLS(y, X_rain).fit()\n",
    "\n",
    "print(f\"P-value when fitting FFMC is {model_ffmc.pvalues.loc['FFMC']:.4f}\")\n",
    "print(f\"P-value when fitting DMC is {model_dmc.pvalues.loc['DMC']:.4f}\")\n",
    "print(f\"P-value when fitting DC is {model_dc.pvalues.loc['DC']:.4f}\")\n",
    "print(f\"P-value when fitting ISI is {model_isi.pvalues.loc['ISI']:.4f}\")\n",
    "print(f\"P-value when fitting temp is {model_temp.pvalues.loc['temp']:.4f}\")\n",
    "print(f\"P-value when fitting RH is {model_rh.pvalues.loc['RH']:.4f}\")\n",
    "print(f\"P-value when fitting wind is {model_wind.pvalues.loc['wind']:.4f}\")\n",
    "print(f\"P-value when fitting rain is {model_rain.pvalues.loc['rain']:.4f}\")\n"
   ]
  },
  {
   "cell_type": "code",
   "execution_count": null,
   "metadata": {},
   "outputs": [],
   "source": []
  },
  {
   "cell_type": "code",
   "execution_count": null,
   "metadata": {
    "id": "7wui1aoP3zbx"
   },
   "outputs": [],
   "source": [
    "X['log_area'] = np.log(y)\n",
    "\n",
    "# scatterplot: FFMC vs. area burned / log area burned\n",
    "fig, axes = plt.subplots(1, 2, figsize=(15,4), sharey=True)\n",
    "axes[0].scatter(X['FFMC'], log_y)\n",
    "axes[0].set_title('Scatterplot: Transformed Fire Area vs Surface Moisture')\n",
    "axes[0].set_xlabel('Surface Moisture Level (FFMC)')\n",
    "axes[0].set_ylabel('Log Forest Fire Area (hectares)')\n",
    "axes[0].grid(True)\n",
    "\n",
    "axes[1].scatter(X['FFMC'], y)\n",
    "axes[1].set_title('Scatterplot: Fire Area vs Surface Moisture')\n",
    "axes[1].set_xlabel('Surface Moisture Level (FFMC)')\n",
    "axes[1].set_ylabel('Forest Fire Area (hectares)')\n",
    "axes[1].grid(True)\n",
    "plt.show()\n",
    "\n",
    "# scatterplot: DMC vs. area burned / log area burned\n",
    "fig, axes = plt.subplots(1, 2, figsize=(15,4), sharey=True)\n",
    "axes[0].scatter(X['DMC'], log_y)\n",
    "axes[0].set_title('Scatterplot: Transformed Fire Area vs Soil Moisture')\n",
    "axes[0].set_xlabel('Soil Moisture Level (DMC)')\n",
    "axes[0].set_ylabel('Log Forest Fire Area (hectares)')\n",
    "axes[0].grid(True)\n",
    "\n",
    "axes[1].scatter(X['DMC'], y)\n",
    "axes[1].set_title('Scatterplot: Fire Area vs Soil Moisture')\n",
    "axes[1].set_xlabel('Soil Moisture Level (DMC)')\n",
    "axes[1].set_ylabel('Forest Fire Area (hectares)')\n",
    "axes[1].grid(True)\n",
    "plt.show()\n",
    "\n",
    "# scatterplot: DC vs. area burned / log area burned\n",
    "fig, axes = plt.subplots(1, 2, figsize=(15,4), sharey=True)\n",
    "axes[0].scatter(X['DC'], log_y)\n",
    "axes[0].set_title('Scatterplot: Transformed Fire Area vs Drought Level')\n",
    "axes[0].set_xlabel('Drought Level (DC)')\n",
    "axes[0].set_ylabel('Log Forest Fire Area (hectares)')\n",
    "axes[0].grid(True)\n",
    "\n",
    "axes[1].scatter(X['DC'], y)\n",
    "axes[1].set_title('Scatterplot: Fire Area vs Drought Level')\n",
    "axes[1].set_xlabel('Drought Level (DC)')\n",
    "axes[1].set_ylabel('Forest Fire Area (hectares)')\n",
    "axes[1].grid(True)\n",
    "plt.show()\n",
    "\n",
    "fig, ax = plt.subplots(figsize=(6,4))\n",
    "sns.scatterplot(x=X['DC'], y=log_y, ax=ax)\n",
    "plt.title('Scatterplot: Fire Area vs Drought Level')\n",
    "plt.xlabel('Drought Level (DC)')\n",
    "plt.ylabel('Forest Fire Area (hectares)')\n",
    "plt.grid(True)\n",
    "plt.show()\n",
    "\n",
    "# scatterplot: ISI vs. log area burned\n",
    "fig, ax = plt.subplots(figsize=(6,4))\n",
    "sns.scatterplot(x=X['ISI'], y=log_y, ax=ax)\n",
    "plt.title('Scatterplot: Fire Area vs Initial Spread')\n",
    "plt.xlabel('Initial Spread (ISI)')\n",
    "plt.ylabel('Forest Fire Area (hectares)')\n",
    "plt.grid(True)\n",
    "plt.show()\n",
    "\n",
    "# scatterplot: temp vs. log area burned\n",
    "fig, ax = plt.subplots(figsize=(6,4))\n",
    "sns.scatterplot(x=X['temp'], y=log_y, ax=ax)\n",
    "plt.title('Scatterplot: Fire Area vs Temperature')\n",
    "plt.xlabel('Temperature (C)')\n",
    "plt.ylabel('Forest Fire Area (hectares)')\n",
    "plt.grid(True)\n",
    "plt.show()"
   ]
  },
  {
   "cell_type": "markdown",
   "metadata": {
    "id": "OCJv2eaJ3zoW"
   },
   "source": [
    "### Step 3: Fit the regression models"
   ]
  },
  {
   "cell_type": "markdown",
   "metadata": {
    "id": "HimQQIb240OU"
   },
   "source": [
    "* Fit a baseline multiple linear regression model with key predictors.\n",
    "* Include nonlinear terms (e.g., quadratic transformations for significant predictors).\n",
    "* Add interaction terms (e.g., between predictors with strong correlations).\n",
    "* Incorporate indicator variables if categorical variables are present.\n",
    "* Apply transformations (e.g., logarithmic transformations for skewed predictors)."
   ]
  },
  {
   "cell_type": "code",
   "execution_count": null,
   "metadata": {
    "id": "teOVaV-o30rD"
   },
   "outputs": [],
   "source": []
  },
  {
   "cell_type": "markdown",
   "metadata": {
    "id": "ymVM2_Yy300Q"
   },
   "source": [
    "### Step 4: Evaluate model diagnostics"
   ]
  },
  {
   "cell_type": "markdown",
   "metadata": {
    "id": "4KnO1wy-47fl"
   },
   "source": [
    "* Compare models using metrics like 2R^2, adjusted RR^2, AIC, and BIC.\n",
    "* Plot residuals and create Q-Q plots to assess normality.\n",
    "* Identify influential observations using Cook's Distance."
   ]
  },
  {
   "cell_type": "code",
   "execution_count": null,
   "metadata": {
    "id": "vPrASJxe34Uv"
   },
   "outputs": [],
   "source": []
  },
  {
   "cell_type": "markdown",
   "metadata": {
    "id": "-90C-Uil34lf"
   },
   "source": [
    "### Step 5: Apply regularization"
   ]
  },
  {
   "cell_type": "markdown",
   "metadata": {
    "id": "NIqf-0yU5DUm"
   },
   "source": [
    "* Use Ridge (L2) and Lasso (L1) regression from sklearn to handle multicollinearity.\n",
    "* Extract coefficients and calculate Mean Squared Error (MSE).\n",
    "* Compare the performance of Ridge and Lasso models."
   ]
  },
  {
   "cell_type": "code",
   "execution_count": null,
   "metadata": {
    "id": "N1w0dRWh35c5"
   },
   "outputs": [],
   "source": []
  },
  {
   "cell_type": "markdown",
   "metadata": {
    "id": "NpiIYswd35uu"
   },
   "source": [
    "### Step 6: Prepare the data for binary classification"
   ]
  },
  {
   "cell_type": "markdown",
   "metadata": {
    "id": "5HsEzB2X5Mhi"
   },
   "source": [
    "* Create a binary target variable based on a threshold in y (e.g., median or other percentile).\n",
    "* Select relevant predictors and scale them using StandardScaler."
   ]
  },
  {
   "cell_type": "code",
   "execution_count": null,
   "metadata": {
    "id": "8ZiH1DNE36-6"
   },
   "outputs": [],
   "source": []
  },
  {
   "cell_type": "markdown",
   "metadata": {
    "id": "UFkG7U2c37F8"
   },
   "source": [
    "### Step 7: Train and evaluate a logistic regression model"
   ]
  },
  {
   "cell_type": "markdown",
   "metadata": {
    "id": "gRHRaPzl5TcK"
   },
   "source": [
    "Train a logistic regression model using the scaled predictors.\n",
    "\n",
    "* Display coefficients and the intercept.\n",
    "* Predict probabilities and binary outcomes.\n",
    "* Evaluate performance using accuracy, confusion matrix, precision, recall, and F1-score."
   ]
  },
  {
   "cell_type": "code",
   "execution_count": null,
   "metadata": {
    "id": "fsC9mEFB37wa"
   },
   "outputs": [],
   "source": []
  },
  {
   "cell_type": "markdown",
   "metadata": {
    "id": "3VY41khr3739"
   },
   "source": [
    "### Step 8: Check assumptions"
   ]
  },
  {
   "cell_type": "markdown",
   "metadata": {
    "id": "7OiJIWmC5gVk"
   },
   "source": [
    "* Use Variance Inflation Factor (VIF) to assess multicollinearity among predictors."
   ]
  },
  {
   "cell_type": "code",
   "execution_count": null,
   "metadata": {
    "id": "j6UMgBD138q9"
   },
   "outputs": [],
   "source": []
  },
  {
   "cell_type": "markdown",
   "metadata": {
    "id": "ofTFobXs38yw"
   },
   "source": [
    "### Step 9: Summative Findings"
   ]
  },
  {
   "cell_type": "markdown",
   "metadata": {
    "id": "hPARmDcv5lJg"
   },
   "source": [
    "* Compare regression models and classification results.\n",
    "* Highlight trade-offs between model simplicity, performance, and interpretability.\n",
    "* Recommend the best-performing model for predicting or classifying fire behavior."
   ]
  },
  {
   "cell_type": "markdown",
   "metadata": {
    "id": "QRc_B5Sq39mm"
   },
   "source": [
    "[Type your findings here.]"
   ]
  }
 ],
 "metadata": {
  "colab": {
   "provenance": []
  },
  "kernelspec": {
   "display_name": "Python (win_c0c1)",
   "language": "python",
   "name": "win_c0c1"
  },
  "language_info": {
   "codemirror_mode": {
    "name": "ipython",
    "version": 3
   },
   "file_extension": ".py",
   "mimetype": "text/x-python",
   "name": "python",
   "nbconvert_exporter": "python",
   "pygments_lexer": "ipython3",
   "version": "3.12.4"
  }
 },
 "nbformat": 4,
 "nbformat_minor": 0
}
